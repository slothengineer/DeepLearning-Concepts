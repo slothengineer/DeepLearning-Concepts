{
 "cells": [
  {
   "cell_type": "markdown",
   "id": "27ffe7f5-e7bd-493a-b28c-df5876028a51",
   "metadata": {},
   "source": [
    "## Pooling And Padding"
   ]
  },
  {
   "cell_type": "markdown",
   "id": "576381eb-a6c8-45ce-84ac-4cf3c27f035b",
   "metadata": {},
   "source": [
    "### Describe the purpose and benefits of pooling in CNN.\n",
    "\n",
    "Pooling, also known as subsampling or downsampling, is a fundamental operation in Convolutional Neural Networks (CNNs) used primarily to reduce the spatial dimensions of feature maps while retaining important information. The purpose of pooling is to make the representation of the data more manageable, compact, and computationally efficient, while also enhancing the network's ability to recognize features and patterns in varying positions within an input image.\n",
    "\n",
    "There are a few commonly used pooling techniques in CNNs, with max pooling and average pooling being the most popular:\n",
    "\n",
    "1. **Max Pooling:** In max pooling, a window (typically 2x2 or 3x3) slides over the input feature map, and the maximum value within the window is selected to represent that region. This operation essentially retains the most prominent feature in a local neighborhood, helping to preserve important spatial information and making the network more robust to small spatial translations and distortions.\n",
    "\n",
    "2. **Average Pooling:** Average pooling works similarly to max pooling, but instead of taking the maximum value, it calculates the average value within the pooling window. This operation also helps in reducing spatial dimensions while providing a smoother representation of the data, which can be beneficial in cases where fine-grained details are not critical.\n",
    "\n",
    "Benefits of Pooling in CNNs:\n",
    "\n",
    "1. **Dimensionality Reduction:** Pooling reduces the spatial dimensions of feature maps, which in turn reduces the number of parameters and computations in the subsequent layers. This makes the network more efficient to train and faster to compute.\n",
    "\n",
    "2. **Translation Invariance:** Pooling helps the network become more robust to small shifts or translations in the input data. Since the pooling operation selects the most prominent feature in a local region, the network becomes less sensitive to the precise location of that feature.\n",
    "\n",
    "3. **Feature Hierarchy:** By progressively applying pooling layers, the network learns to capture higher-level features and their relationships in the data. Initially, lower layers detect simple features like edges, corners, and textures, while deeper layers detect more complex patterns and objects.\n",
    "\n",
    "4. **Regularization:** Pooling can act as a form of regularization by reducing the risk of overfitting. The operation introduces a degree of generalization by summarizing local features, preventing the network from becoming overly specialized to the training data.\n",
    "\n",
    "5. **Memory and Computation Efficiency:** Smaller feature maps resulting from pooling require less memory and computational resources, making it possible to build deeper networks that can capture increasingly abstract features without running into memory constraints."
   ]
  },
  {
   "cell_type": "markdown",
   "id": "52abc47b-d621-4a47-b39f-21372e2701a7",
   "metadata": {},
   "source": [
    "### Explain the difference between minpooling and maxpooling\n",
    "\n",
    "1. **Max Pooling:**\n",
    "   Max pooling is the most common form of pooling in CNNs. In max pooling, a sliding window (usually of size 2x2 or 3x3) moves across the input feature map. For each window position, the maximum value within that window is selected to represent the corresponding region in the pooled feature map. The idea behind max pooling is to retain the most prominent feature or the most significant activation in a local neighborhood. This helps in capturing strong features while also providing a degree of translation invariance, making the network robust to small shifts or distortions in the input.\n",
    "\n",
    "   **Example:**\n",
    "   Original feature map window:\n",
    "   ```\n",
    "   3  1\n",
    "   2  4\n",
    "   ```\n",
    "   After max pooling:\n",
    "   ```\n",
    "   4\n",
    "   ```\n",
    "\n",
    "2. **Min Pooling:**\n",
    "   Min pooling is a less common variant of pooling that is used less frequently in CNN architectures. In min pooling, a similar sliding window operation is performed, but instead of selecting the maximum value, the minimum value within the window is chosen to represent the region in the pooled feature map. The idea is somewhat opposite to that of max pooling; min pooling focuses on retaining the least intense or least activated features in a local region.\n",
    "\n",
    "   **Example:**\n",
    "   Original feature map window:\n",
    "   ```\n",
    "   5  3\n",
    "   6  4\n",
    "   ```\n",
    "   After min pooling:\n",
    "   ```\n",
    "   3\n",
    "   ```\n",
    "\n",
    "In practice, max pooling tends to be more popular and effective because it captures strong features and patterns that are crucial for recognition tasks. It helps in creating a more robust and invariant representation of the data. Min pooling, on the other hand, might have limited use cases and might not be as effective in capturing important features, especially in scenarios where the features of interest tend to have higher activations."
   ]
  },
  {
   "cell_type": "markdown",
   "id": "52885a98-d105-4863-a4f4-10270ac1b559",
   "metadata": {},
   "source": [
    "### Discuss the concept of padding in CNN and its significance.\n",
    "\n",
    "Padding is a technique used in Convolutional Neural Networks (CNNs) to adjust the size of the input data before applying convolutional or pooling operations. It involves adding extra pixels (usually filled with zeros) around the borders of the input feature maps. Padding serves several important purposes in CNNs and plays a significant role in controlling the size of the output feature maps and the behavior of the network.\n",
    "\n",
    "Padding can be of two types: \"valid\" (no padding) and \"same\" (zero-padding). Let's delve into the concept of padding and its significance:\n",
    "\n",
    "1. **No Padding (Valid Convolution):**\n",
    "   In valid convolution, no padding is added to the input feature maps before applying the convolution operation. This results in the output feature map having smaller dimensions compared to the input. Valid convolution is particularly useful when you want to reduce the spatial dimensions of the data, which is common in deeper layers of a CNN architecture. However, the drawback is that information at the edges of the input is lost during the convolution, potentially leading to a reduction in the effectiveness of feature extraction near the borders.\n",
    "\n",
    "2. **Zero Padding (Same Convolution):**\n",
    "   In same convolution, zero-padding is added to the input feature maps before applying the convolution operation. The amount of padding is chosen in such a way that the spatial dimensions of the output feature map remain the same as the input. This ensures that the output feature map retains the spatial resolution of the original input. Zero padding helps in preserving spatial information and makes it possible to perform convolutions without losing data at the edges.\n",
    "\n",
    "Significance of Padding in CNNs:\n",
    "\n",
    "1. **Preserving Spatial Information:** Padding, especially \"same\" padding, is crucial for maintaining the spatial resolution of the input data. It ensures that important details near the borders of the input are not lost during the convolutional and pooling operations, thus helping the network capture features effectively.\n",
    "\n",
    "2. **Edge Effects:** Convolutional operations give reduced feature maps, and without padding, the effective region over which the convolution is applied becomes smaller as you move towards the edges. This can lead to an \"edge effect\" where the information at the borders has less influence on the output. Padding mitigates this effect.\n",
    "\n",
    "3. **Architecture Flexibility:** By adjusting the amount of padding, you can control the spatial dimensions of the feature maps at each layer. This flexibility allows you to design networks with different sizes of feature maps, which can be important for tasks with varying levels of feature granularity.\n",
    "\n",
    "4. **Transition to Deeper Layers:** Padding helps in maintaining a smooth transition of information from one layer to the next in deep networks. It prevents the gradual reduction in spatial dimensions from causing a sudden loss of detail or features in deeper layers.\n",
    "\n",
    "5. **Avoiding Information Loss:** In cases where you want to perform pooling or convolutions without changing the spatial dimensions, padding ensures that information at the edges is taken into account during these operations."
   ]
  },
  {
   "cell_type": "markdown",
   "id": "8c700755-f0ef-4788-938d-7c267f81e852",
   "metadata": {},
   "source": [
    "### Compare and contrast zero-padding and valid-padding in terms of their effects on the output feature map size.\n",
    "\n",
    "Zero-padding and valid-padding are two types of padding techniques used in Convolutional Neural Networks (CNNs) to adjust the size of the output feature maps after applying convolutional or pooling operations. \n",
    "\n",
    "**Zero-Padding:**\n",
    "Zero-padding involves adding extra rows and columns of zeros around the borders of the input feature maps before applying the convolutional or pooling operations. The primary purpose of zero-padding is to control the size of the output feature maps and maintain the spatial resolution of the input. In the context of convolution, zero-padding helps mitigate the loss of spatial information near the edges of the input.\n",
    "\n",
    "Effects of Zero-Padding on Output Feature Map Size:\n",
    "- With zero-padding, the output feature map can have the same spatial dimensions as the input feature map, even after applying convolution or pooling.\n",
    "- It prevents the \"edge effect\" where information at the borders of the input is ignored during convolution or pooling.\n",
    "- Zero-padding is commonly used in \"same\" convolutions to ensure that the output feature map size matches the input size.\n",
    "- Zero-padding increases the overall size of the feature map due to the added zeros.\n",
    "\n",
    "**Valid-Padding:**\n",
    "Valid-padding, also known as no padding, involves applying the convolutional or pooling operations to the input feature maps without adding any additional padding. This results in the output feature map having smaller spatial dimensions compared to the input. In valid-padding, information near the edges of the input may be lost during the operation, as the convolutional or pooling windows cannot extend beyond the boundaries.\n",
    "\n",
    "Effects of Valid-Padding on Output Feature Map Size:\n",
    "- The output feature map will have reduced spatial dimensions compared to the input feature map.\n",
    "- Valid-padding is commonly used when the goal is to reduce the spatial dimensions of the feature maps, which is typical in deeper layers of CNN architectures.\n",
    "- While it reduces the computational load and memory usage, it might lead to a loss of detail near the borders of the input.\n",
    "\n",
    "**Comparison and Contrast:**\n",
    "- **Output Size:** Zero-padding maintains the output size the same as the input size (same convolution), whereas valid-padding reduces the output size.\n",
    "- **Preservation of Spatial Information:** Zero-padding preserves spatial information at the borders of the input, while valid-padding might result in information loss near the edges.\n",
    "- **Use Cases:** Zero-padding is often used when maintaining spatial resolution is important (e.g., in early layers or when transitioning to deeper layers). Valid-padding is used when dimensionality reduction is desired.\n",
    "- **Edge Effects:** Zero-padding prevents edge effects by ensuring that the convolutional or pooling windows can fully overlap with the input, while valid-padding can lead to edge effects.\n",
    "- **Computational Load:** Zero-padding increases the computational load due to the addition of zeros, while valid-padding reduces the computation by excluding the edges."
   ]
  },
  {
   "cell_type": "markdown",
   "id": "e2a8bb53-2ba5-4ade-b69e-d9c7b12b604c",
   "metadata": {},
   "source": [
    "## Exploring LeNet"
   ]
  },
  {
   "cell_type": "markdown",
   "id": "15c967b5-5c35-4142-b9a8-89ba0f1d2c30",
   "metadata": {},
   "source": [
    "### Overview of LeNet-5"
   ]
  },
  {
   "cell_type": "markdown",
   "id": "3cc925a3-dd91-476e-b855-aab48a3ca69b",
   "metadata": {},
   "source": [
    "LeNet-5 is a pioneering convolutional neural network (CNN) architecture designed by Yann LeCun, Leon Bottou, Yoshua Bengio, and Patrick Haffner. It was introduced in 1998 and played a significant role in popularizing CNNs for image recognition tasks, particularly handwritten digit recognition.\n",
    "\n",
    "The LeNet-5 architecture consists of seven layers, including three convolutional layers, two subsampling (pooling) layers, and two fully connected layers. Here's a brief overview of its architecture:\n",
    "\n",
    "1. **Input Layer:**\n",
    "   The network takes grayscale images of size 32x32 pixels as input.\n",
    "\n",
    "2. **Convolutional Layer 1:**\n",
    "   The first convolutional layer applies six filters (kernels) of size 5x5 to the input image. Each filter extracts different features from the input image, resulting in six feature maps. The output of this layer is then passed through a hyperbolic tangent (tanh) activation function.\n",
    "\n",
    "3. **Subsampling (Pooling) Layer 1:**\n",
    "   The first pooling layer performs downscaling by taking the maximum value from a 2x2 region of each feature map. This reduces the spatial dimensions of the feature maps while preserving important information.\n",
    "\n",
    "4. **Convolutional Layer 2:**\n",
    "   The second convolutional layer applies sixteen 5x5 filters to the output of the first pooling layer. Again, each filter produces a feature map, which is then passed through a tanh activation function.\n",
    "\n",
    "5. **Subsampling (Pooling) Layer 2:**\n",
    "   Similar to the first pooling layer, the second pooling layer performs downscaling by taking the maximum value from a 2x2 region of each feature map.\n",
    "\n",
    "6. **Fully Connected Layer 1:**\n",
    "   The fourth layer is a fully connected layer with 120 neurons. It takes flattened versions of the feature maps from the second pooling layer and passes them through a tanh activation function.\n",
    "\n",
    "7. **Fully Connected Layer 2 (Output Layer):**\n",
    "   The final layer is another fully connected layer with 84 neurons, followed by an output layer with 10 neurons (corresponding to the digits 0 through 9). The output layer is typically connected to a softmax activation function to produce class probabilities for digit recognition.\n",
    "\n",
    "![LeNet-5](lenet.jpeg)\n",
    "\n",
    "LeNet-5 was designed specifically for the MNIST dataset, which consists of handwritten digits. It demonstrated the effectiveness of convolutional neural networks in extracting hierarchical features from images and achieving impressive performance on digit recognition tasks. While LeNet-5's architecture might seem simple by modern standards, it laid the foundation for more complex CNN architectures used in today's deep learning models for a wide range of computer vision tasks."
   ]
  },
  {
   "cell_type": "markdown",
   "id": "3b6b4ceb-ac1b-4350-a6e2-b3db6a222e8d",
   "metadata": {},
   "source": [
    "### Key components of LeNet-5 and their respective purposes\n",
    "\n",
    "1. **Input Layer**: The input to LeNet-5 consists of grayscale images of a fixed size (typically 32x32 pixels). These images are fed into the network for processing.\n",
    "\n",
    "2. **Convolutional Layers**: LeNet-5 includes two sets of convolutional layers followed by average pooling layers. The purpose of convolutional layers is to detect local features in the input images. Convolutions involve sliding small filters (also known as kernels) over the input image to extract features like edges, corners, and textures. These features are learned through the training process.\n",
    "\n",
    "3. **Activation Function (Sigmoid)**: The activation function used in LeNet-5 is the sigmoid function. While modern architectures often use rectified linear unit (ReLU) activations, sigmoid activations were common during the time LeNet-5 was developed. The sigmoid activation function introduces non-linearity into the network, allowing it to capture complex relationships in the data.\n",
    "\n",
    "4. **Average Pooling Layers**: After each set of convolutional layers, average pooling layers are used. Pooling reduces the spatial dimensions of the feature maps while retaining their important features. Average pooling takes small windows of the feature maps and computes the average value within each window. This reduces the computation and helps with translational invariance (the network is less sensitive to small translations in the input image).\n",
    "\n",
    "5. **Flatten Layer**: Following the pooling layers, the feature maps are flattened into a one-dimensional vector. This vector serves as the input to the fully connected layers.\n",
    "\n",
    "6. **Fully Connected Layers**: LeNet-5 contains three fully connected layers (also known as dense layers) that act as a classifier. These layers learn to combine the features extracted by the earlier convolutional layers to make predictions about the input image's class. The last fully connected layer produces the final classification probabilities.\n",
    "\n",
    "7. **Output Layer**: The output layer typically consists of 10 neurons (in the case of handwritten digit recognition) corresponding to the possible classes (digits 0-9). The softmax activation function is applied to the outputs to produce class probabilities."
   ]
  },
  {
   "cell_type": "markdown",
   "id": "f1627d0c-dce5-4f08-85cd-dc08065023e3",
   "metadata": {},
   "source": [
    "### Advantages and limitations of LeNet-5 in the context of image classification tasks\n",
    "\n",
    "**Advantages:**\n",
    "\n",
    "1. **Feature Hierarchy**: LeNet-5 introduced the concept of feature hierarchies through its convolutional layers. These layers automatically learn local features (such as edges, textures, and patterns) from the input images. This hierarchy of features enables the network to capture complex structures in the data.\n",
    "\n",
    "2. **Translation Invariance**: The use of average pooling layers in LeNet-5 contributes to the network's translation invariance. This means that small shifts or translations in the input image do not drastically affect the network's ability to recognize the features and patterns present.\n",
    "\n",
    "3. **Local Receptive Fields**: The convolutional layers in LeNet-5 utilize local receptive fields, allowing the network to focus on small portions of the input image at a time. This approach is inspired by how the human visual system processes information.\n",
    "\n",
    "4. **Reduced Parameters**: By using weight sharing in convolutional layers, LeNet-5 reduces the number of learnable parameters compared to fully connected layers. This parameter reduction is crucial for training models with limited computational resources.\n",
    "\n",
    "**Limitations:**\n",
    "\n",
    "1. **Limited Depth**: LeNet-5 is relatively shallow compared to modern CNN architectures. While this simplicity made sense during its development, it limits its ability to capture very complex hierarchical patterns that are present in more intricate datasets.\n",
    "\n",
    "2. **Sigmoid Activation**: LeNet-5 employs sigmoid activation functions, which have limitations compared to modern activations like ReLU. Sigmoid activations suffer from the vanishing gradient problem, which can slow down training and limit the network's ability to learn deeper representations.\n",
    "\n",
    "3. **Spatial Resolution**: The pooling layers in LeNet-5 lead to a reduction in spatial resolution. While this aids in translational invariance, it can also lead to the loss of fine-grained spatial information that might be relevant for certain tasks.\n",
    "\n",
    "4. **Limited Architecture Flexibility**: LeNet-5's architecture was designed for a specific task (handwritten digit recognition) and image size (32x32). Adapting it to different tasks and larger images requires significant modifications and engineering.\n",
    "\n",
    "5. **Performance on Complex Data**: Due to its limited depth and simple architecture, LeNet-5 might struggle with more complex datasets, such as those involving high-resolution images or intricate object recognition tasks."
   ]
  },
  {
   "cell_type": "markdown",
   "id": "914c4f0c-866f-476e-bfd6-ce92c279ceb3",
   "metadata": {},
   "source": [
    "### Implementation of LeNet-5"
   ]
  },
  {
   "cell_type": "code",
   "execution_count": 16,
   "id": "495e726c-b357-42b4-922f-2a0181a09859",
   "metadata": {},
   "outputs": [],
   "source": [
    "%%capture\n",
    "!pip install tensorflow"
   ]
  },
  {
   "cell_type": "code",
   "execution_count": 17,
   "id": "1bd1446f-0edd-4b98-806d-28052674c85e",
   "metadata": {},
   "outputs": [],
   "source": [
    "from tensorflow import keras\n",
    "from keras.datasets import mnist\n",
    "from keras.layers import Conv2D, MaxPooling2D,AveragePooling2D\n",
    "from keras.layers import Dense, Flatten\n",
    "from keras.models import Sequential\n",
    "import warnings\n",
    "warnings.filterwarnings(\"ignore\")"
   ]
  },
  {
   "cell_type": "code",
   "execution_count": 18,
   "id": "136005b1-56d8-455d-827a-f03482d8c749",
   "metadata": {},
   "outputs": [],
   "source": [
    "from tensorflow.keras.utils import to_categorical\n",
    "\n",
    "(x_train, y_train), (x_test, y_test) = mnist.load_data()\n",
    "x_train = x_train.reshape(-1, 28, 28, 1).astype('float32') / 255.0\n",
    "x_test = x_test.reshape(-1, 28, 28, 1).astype('float32') / 255.0\n",
    "y_train = to_categorical(y_train, num_classes=10)\n",
    "y_test = to_categorical(y_test, num_classes=10)"
   ]
  },
  {
   "cell_type": "code",
   "execution_count": 19,
   "id": "3c9ed12a-a897-4f6a-b080-6681187bd689",
   "metadata": {},
   "outputs": [
    {
     "name": "stdout",
     "output_type": "stream",
     "text": [
      "Model: \"sequential_1\"\n",
      "_________________________________________________________________\n",
      " Layer (type)                Output Shape              Param #   \n",
      "=================================================================\n",
      " conv2d_2 (Conv2D)           (None, 24, 24, 6)         156       \n",
      "                                                                 \n",
      " max_pooling2d_2 (MaxPoolin  (None, 12, 12, 6)         0         \n",
      " g2D)                                                            \n",
      "                                                                 \n",
      " conv2d_3 (Conv2D)           (None, 8, 8, 16)          2416      \n",
      "                                                                 \n",
      " max_pooling2d_3 (MaxPoolin  (None, 4, 4, 16)          0         \n",
      " g2D)                                                            \n",
      "                                                                 \n",
      " flatten_1 (Flatten)         (None, 256)               0         \n",
      "                                                                 \n",
      " dense_3 (Dense)             (None, 120)               30840     \n",
      "                                                                 \n",
      " dense_4 (Dense)             (None, 84)                10164     \n",
      "                                                                 \n",
      " dense_5 (Dense)             (None, 10)                850       \n",
      "                                                                 \n",
      "=================================================================\n",
      "Total params: 44426 (173.54 KB)\n",
      "Trainable params: 44426 (173.54 KB)\n",
      "Non-trainable params: 0 (0.00 Byte)\n",
      "_________________________________________________________________\n"
     ]
    }
   ],
   "source": [
    "model = Sequential()\n",
    "\n",
    "model.add(Conv2D(6, kernel_size=(5, 5), activation='relu', input_shape=(28,28,1)))\n",
    "model.add(MaxPooling2D(pool_size=(2, 2)))\n",
    "\n",
    "model.add(Conv2D(16, kernel_size=(5, 5), activation='relu'))\n",
    "model.add(MaxPooling2D(pool_size=(2, 2)))\n",
    "\n",
    "model.add(Flatten())\n",
    "\n",
    "model.add(Dense(120, activation='tanh'))\n",
    "model.add(Dense(84, activation='tanh'))\n",
    "\n",
    "model.add(Dense(10, activation='softmax'))\n",
    "\n",
    "model.summary()"
   ]
  },
  {
   "cell_type": "code",
   "execution_count": 20,
   "id": "a8e741ad-4b72-470a-bba5-46022ac10a37",
   "metadata": {},
   "outputs": [],
   "source": [
    "model.compile(optimizer='adam', loss='categorical_crossentropy', metrics=['accuracy'])"
   ]
  },
  {
   "cell_type": "code",
   "execution_count": 21,
   "id": "6faa5e43-ffb5-4d59-8260-6abe4ed91d28",
   "metadata": {},
   "outputs": [
    {
     "name": "stdout",
     "output_type": "stream",
     "text": [
      "Epoch 1/10\n",
      "844/844 [==============================] - 8s 8ms/step - loss: 0.2027 - accuracy: 0.9417 - val_loss: 0.0724 - val_accuracy: 0.9802\n",
      "Epoch 2/10\n",
      "844/844 [==============================] - 6s 7ms/step - loss: 0.0653 - accuracy: 0.9797 - val_loss: 0.0631 - val_accuracy: 0.9820\n",
      "Epoch 3/10\n",
      "844/844 [==============================] - 6s 7ms/step - loss: 0.0481 - accuracy: 0.9852 - val_loss: 0.0436 - val_accuracy: 0.9872\n",
      "Epoch 4/10\n",
      "844/844 [==============================] - 6s 7ms/step - loss: 0.0393 - accuracy: 0.9867 - val_loss: 0.0432 - val_accuracy: 0.9868\n",
      "Epoch 5/10\n",
      "844/844 [==============================] - 6s 7ms/step - loss: 0.0300 - accuracy: 0.9903 - val_loss: 0.0424 - val_accuracy: 0.9880\n",
      "Epoch 6/10\n",
      "844/844 [==============================] - 6s 7ms/step - loss: 0.0259 - accuracy: 0.9914 - val_loss: 0.0381 - val_accuracy: 0.9892\n",
      "Epoch 7/10\n",
      "844/844 [==============================] - 6s 7ms/step - loss: 0.0199 - accuracy: 0.9937 - val_loss: 0.0392 - val_accuracy: 0.9877\n",
      "Epoch 8/10\n",
      "844/844 [==============================] - 6s 7ms/step - loss: 0.0180 - accuracy: 0.9946 - val_loss: 0.0350 - val_accuracy: 0.9903\n",
      "Epoch 9/10\n",
      "844/844 [==============================] - 6s 7ms/step - loss: 0.0160 - accuracy: 0.9949 - val_loss: 0.0404 - val_accuracy: 0.9887\n",
      "Epoch 10/10\n",
      "844/844 [==============================] - 6s 7ms/step - loss: 0.0127 - accuracy: 0.9961 - val_loss: 0.0386 - val_accuracy: 0.9897\n"
     ]
    },
    {
     "data": {
      "text/plain": [
       "<keras.src.callbacks.History at 0x7f0328895360>"
      ]
     },
     "execution_count": 21,
     "metadata": {},
     "output_type": "execute_result"
    }
   ],
   "source": [
    "batch_size = 64\n",
    "epochs = 10\n",
    "model.fit(x_train, y_train, batch_size=batch_size, epochs=epochs, validation_split=0.1,verbose=1)"
   ]
  },
  {
   "cell_type": "code",
   "execution_count": 22,
   "id": "68f2e789-f455-4faf-ae71-53865dccba88",
   "metadata": {},
   "outputs": [
    {
     "name": "stdout",
     "output_type": "stream",
     "text": [
      "313/313 [==============================] - 1s 3ms/step - loss: 0.0398 - accuracy: 0.9886\n",
      "Test Loss: 0.0398, Test Accuracy: 0.9886\n"
     ]
    }
   ],
   "source": [
    "loss, accuracy = model.evaluate(x_test, y_test)\n",
    "print(f\"Test Loss: {loss:.4f}, Test Accuracy: {accuracy:.4f}\")"
   ]
  },
  {
   "cell_type": "code",
   "execution_count": 23,
   "id": "bbc7d03b-e4c7-4083-bef1-0cab3181b54b",
   "metadata": {},
   "outputs": [
    {
     "name": "stdout",
     "output_type": "stream",
     "text": [
      "313/313 [==============================] - 1s 3ms/step\n"
     ]
    },
    {
     "data": {
      "image/png": "[encoded data removed]",
      "text/plain": [
       "<Figure size 640x480 with 2 Axes>"
      ]
     },
     "metadata": {},
     "output_type": "display_data"
    }
   ],
   "source": [
    "## creating confusion matrix\n",
    "import numpy as np\n",
    "import tensorflow as tf\n",
    "import matplotlib.pyplot as plt\n",
    "from sklearn.metrics import confusion_matrix, ConfusionMatrixDisplay\n",
    "\n",
    "y_pred = model.predict(x_test)\n",
    "y_pred_classes = np.argmax(y_pred, axis=1)\n",
    "y_true = np.argmax(y_test, axis=1)\n",
    "\n",
    "#create confusion matrix\n",
    "cm = confusion_matrix(y_true, y_pred_classes)\n",
    "\n",
    "class_names = [str(i) for i in range(10)]\n",
    "disp = ConfusionMatrixDisplay(confusion_matrix=cm, display_labels=class_names)\n",
    "disp.plot(cmap=plt.cm.Blues, values_format='.0f')\n",
    "plt.title(\"Confusion Matrix\")\n",
    "plt.show()"
   ]
  },
  {
   "cell_type": "code",
   "execution_count": 25,
   "id": "44971bf4-a89a-4710-9ba6-275cc9a45861",
   "metadata": {},
   "outputs": [
    {
     "name": "stdout",
     "output_type": "stream",
     "text": [
      "1/1 [==============================] - 0s 53ms/step\n"
     ]
    },
    {
     "data": {
      "image/png": "[encoded data removed]",
      "text/plain": [
       "<Figure size 800x800 with 6 Axes>"
      ]
     },
     "metadata": {},
     "output_type": "display_data"
    },
    {
     "name": "stdout",
     "output_type": "stream",
     "text": [
      "1/1 [==============================] - 0s 53ms/step\n"
     ]
    },
    {
     "data": {
      "image/png": "[encoded data removed]",
      "text/plain": [
       "<Figure size 800x800 with 6 Axes>"
      ]
     },
     "metadata": {},
     "output_type": "display_data"
    }
   ],
   "source": [
    "## showing feature maps\n",
    "sample_index = 0                              ## index of the sample image you want to visualize\n",
    "layer_names = ['conv2d_2','max_pooling2d_2']  ## ames of the convolutional layers to visualize\n",
    "\n",
    "for layer_name in layer_names:\n",
    "    intermediate_layer_model = tf.keras.Model(inputs=model.input, outputs=model.get_layer(layer_name).output)\n",
    "    intermediate_output = intermediate_layer_model.predict(x_test[sample_index].reshape(1, 28, 28, 1))\n",
    "\n",
    "    plt.figure(figsize=(8, 8))\n",
    "    num_filters = intermediate_output.shape[-1]\n",
    "\n",
    "    for i in range(num_filters):\n",
    "        plt.subplot(4, 4, i + 1)\n",
    "        plt.imshow(intermediate_output[0, :, :, i], cmap='viridis')\n",
    "        plt.axis('off')\n",
    "\n",
    "    plt.suptitle(f'Feature Maps - Layer: {layer_name}')\n",
    "    plt.show()"
   ]
  },
  {
   "cell_type": "markdown",
   "id": "98bea1f9-b7e1-4a6f-9799-bff40f97c616",
   "metadata": {},
   "source": [
    "## Analyzing AlexNet"
   ]
  },
  {
   "cell_type": "markdown",
   "id": "6824e9e5-9535-4d21-8963-127f3a94f6f3",
   "metadata": {},
   "source": [
    "### Overview of the AlexNet "
   ]
  },
  {
   "cell_type": "markdown",
   "id": "bbb4efb4-1761-43d7-a774-a9030989909a",
   "metadata": {},
   "source": [
    "AlexNet is a groundbreaking convolutional neural network (CNN) architecture that was developed by Alex Krizhevsky, Ilya Sutskever, and Geoffrey Hinton. It won the ImageNet Large Scale Visual Recognition Challenge (ILSVRC) in 2012, marking a significant milestone in the field of computer vision. AlexNet demonstrated the power of deep neural networks for image classification tasks and played a pivotal role in popularizing the use of deep learning.\n",
    "\n",
    "**1. Architecture:**\n",
    "AlexNet consists of eight layers, five of which are convolutional layers followed by three fully connected layers. The architecture is deeper and wider compared to previous models, making it capable of capturing more intricate features from images.\n",
    "\n",
    "**2. Rectified Linear Units (ReLU):**\n",
    "AlexNet was one of the first neural networks to widely adopt the ReLU activation function. ReLU introduces non-linearity to the network and addresses the vanishing gradient problem, enabling faster convergence during training.\n",
    "\n",
    "**3. Local Response Normalization (LRN):**\n",
    "LRN is applied after the ReLU activation in the first two convolutional layers. It normalizes the responses of neighboring neurons, promoting competition among features and enhancing the generalization ability of the network.\n",
    "\n",
    "**4. Overlapping Pooling:**\n",
    "AlexNet uses overlapping max-pooling, which overlaps the pooling windows to reduce the spatial dimensions of the feature maps while preserving more spatial information. This approach helps in capturing finer details in the input images.\n",
    "\n",
    "**5. Data Augmentation:**\n",
    "AlexNet employed aggressive data augmentation techniques, including cropping, flipping, and altering color channels. This expanded the effective size of the training dataset and reduced overfitting.\n",
    "\n",
    "**6. Dropout:**\n",
    "AlexNet introduced the use of dropout, a regularization technique that randomly drops out a portion of neurons during training. This helps prevent overfitting by reducing the reliance on specific neurons.\n",
    "\n",
    "**7. Large-Scale Training:**\n",
    "AlexNet was trained on a large-scale dataset called ImageNet, which contains millions of labeled images spanning thousands of categories. This massive dataset enabled the network to learn a wide range of features and generalizations.\n",
    "\n",
    "**8. GPUs for Training:**\n",
    "AlexNet's success was partly due to its implementation on Graphics Processing Units (GPUs), which significantly sped up the training process. The parallel processing capabilities of GPUs allowed for more efficient training of deep networks.\n",
    "\n",
    "**9. Impact:**\n",
    "AlexNet's victory in the ILSVRC marked a pivotal moment in deep learning, demonstrating the potential of deep neural networks for complex tasks like image classification. Its architecture and techniques inspired the development of subsequent CNN architectures, paving the way for the development of even deeper and more powerful models.\n",
    "\n",
    "![AlexNet](alexnet.webp)"
   ]
  },
  {
   "cell_type": "markdown",
   "id": "10a9b20f-59a2-4579-9910-614c139f336a",
   "metadata": {},
   "source": [
    "### Architectural innovations introduced in AlexNet that contributed to its breakthrough performance"
   ]
  },
  {
   "cell_type": "markdown",
   "id": "bf344611-cbde-4ebb-927a-f5610a591713",
   "metadata": {},
   "source": [
    "AlexNet introduced several architectural innovations that played a crucial role in its breakthrough performance in the ImageNet Large Scale Visual Recognition Challenge (ILSVRC) in 2012. These innovations helped AlexNet achieve significantly better accuracy than previous models and paved the way for the adoption of deep convolutional neural networks (CNNs) for image classification tasks. Here are the key architectural innovations introduced by AlexNet:\n",
    "\n",
    "1. **Depth and Width:** AlexNet was deeper and wider compared to previous neural network architectures. It consisted of eight layers, with the first five being convolutional layers and the remaining three fully connected layers. This depth allowed the network to capture increasingly complex features as information flowed deeper into the network. The increased width, meaning more filters in the convolutional layers, enabled the detection of a broader range of features.\n",
    "\n",
    "2. **Rectified Linear Units (ReLU) Activation:** AlexNet was one of the first models to widely adopt the ReLU activation function. ReLU replaces the traditional sigmoid or hyperbolic tangent activations with a simple thresholding function (f(x) = max(0, x)). This non-linearity helps alleviate the vanishing gradient problem, allowing for faster training and enabling the network to learn more intricate features.\n",
    "\n",
    "3. **Local Response Normalization (LRN):** In the first two convolutional layers, AlexNet applied a local response normalization (LRN) technique. LRN aims to enhance the generalization ability of the network by introducing competition among the features detected by neighboring neurons. This normalization method promotes the detection of more varied features.\n",
    "\n",
    "4. **Overlapping Pooling:** Instead of using non-overlapping pooling layers, AlexNet employed overlapping max-pooling. Overlapping pooling windows (2x2) helped preserve more spatial information in the feature maps. This innovation allowed the network to capture finer details and positional information in the images.\n",
    "\n",
    "5. **Data Augmentation:** AlexNet used aggressive data augmentation techniques during training. Images were randomly cropped, horizontally flipped, and had their color channels altered. This augmented dataset increased the effective size of the training data, reducing overfitting and helping the model generalize better to unseen data.\n",
    "\n",
    "6. **Dropout Regularization:** AlexNet introduced dropout, a regularization technique that randomly drops out a fraction of neurons during training. This forces the network to be less reliant on specific neurons and increases its robustness. Dropout helps prevent overfitting by ensuring that no single neuron becomes a crucial feature detector.\n",
    "\n",
    "7. **Large-Scale Training on GPUs:** AlexNet's training was distributed across two GPUs, which allowed for significantly faster training times. The parallel processing capabilities of GPUs expedited the optimization process and enabled more extensive experimentation with hyperparameters."
   ]
  },
  {
   "cell_type": "markdown",
   "id": "21c8121e-67eb-44b0-9731-61d3a0963892",
   "metadata": {},
   "source": [
    "### Role of convolutional layers, pooling layers, and fully connected layers in AlexNet"
   ]
  },
  {
   "cell_type": "markdown",
   "id": "bf428952-db40-41e2-a709-70cd78c12163",
   "metadata": {},
   "source": [
    "**1. Convolutional Layers:**\n",
    "Convolutional layers are at the core of AlexNet's architecture. They perform the essential task of feature extraction by applying convolutional filters to input images. Each filter learns to detect specific features, such as edges, corners, textures, or complex patterns. Convolutional layers are responsible for capturing local patterns and spatial hierarchies in the data. In AlexNet, the first few convolutional layers capture simple features like edges and textures, while deeper layers progressively detect more complex and abstract features.\n",
    "\n",
    "**2. Pooling Layers:**\n",
    "Pooling layers, specifically max-pooling in the case of AlexNet, follow the convolutional layers. These layers play a role in spatial reduction and feature selection. Max-pooling downsamples the spatial dimensions of the feature maps, reducing the computational burden and the risk of overfitting. In AlexNet, the pooling layers help the network become somewhat invariant to small translations in the input images. Overlapping pooling (where the pooling windows overlap) in AlexNet preserves more spatial information compared to non-overlapping pooling, which contributes to its success.\n",
    "\n",
    "**3. Fully Connected Layers:**\n",
    "Fully connected layers appear towards the end of AlexNet and serve as the classifier. These layers take the flattened feature maps from the previous convolutional and pooling layers and transform them into predictions for specific classes. In AlexNet, there are three fully connected layers. The first two fully connected layers act as feature transformers, reducing the dimensionality and learning high-level abstractions. The final fully connected layer produces class probabilities for the input image."
   ]
  },
  {
   "cell_type": "markdown",
   "id": "975da525-4fd5-4313-a779-8fa1e5fe0bf9",
   "metadata": {},
   "source": [
    "### Implement of AlexNet"
   ]
  },
  {
   "cell_type": "code",
   "execution_count": 26,
   "id": "b3864f39-5bb5-4550-9de4-c7199f297e38",
   "metadata": {},
   "outputs": [],
   "source": [
    "import tensorflow as tf\n",
    "from tensorflow.keras.layers import Conv2D, MaxPooling2D, Flatten, Dense, Dropout\n",
    "from tensorflow.keras.datasets import cifar10\n",
    "from tensorflow.keras.utils import to_categorical\n",
    "from tensorflow.keras.preprocessing.image import ImageDataGenerator"
   ]
  },
  {
   "cell_type": "code",
   "execution_count": 27,
   "id": "1190b2c6-4e18-4fa2-99d5-fcf4e4fc4bba",
   "metadata": {},
   "outputs": [],
   "source": [
    "(x_train, y_train), (x_test, y_test) = cifar10.load_data()\n",
    "x_train = x_train.astype('float32') / 255.0\n",
    "x_test = x_test.astype('float32') / 255.0\n",
    "y_train = to_categorical(y_train, num_classes=10)\n",
    "y_test = to_categorical(y_test, num_classes=10)"
   ]
  },
  {
   "cell_type": "code",
   "execution_count": 28,
   "id": "31a4f55f-a3e9-4c19-ba65-46e3f18191b3",
   "metadata": {},
   "outputs": [],
   "source": [
    "datagen = ImageDataGenerator(\n",
    "    width_shift_range=0.1,\n",
    "    height_shift_range=0.1,\n",
    "    horizontal_flip=True,\n",
    "    fill_mode='nearest'\n",
    ")\n",
    "\n",
    "datagen.fit(x_train)"
   ]
  },
  {
   "cell_type": "code",
   "execution_count": 29,
   "id": "2db75422-ecf0-41d9-90e3-eee4fe1a20cd",
   "metadata": {},
   "outputs": [],
   "source": [
    "model = Sequential()\n",
    "model.add(Conv2D(96, kernel_size=(3, 3), strides=(1, 1), activation='relu', input_shape=(32,32,3)))\n",
    "model.add(MaxPooling2D(pool_size=(3, 3), strides=(2, 2)))\n",
    "\n",
    "model.add(Conv2D(256, kernel_size=(5, 5), activation='relu', padding='same'))\n",
    "model.add(MaxPooling2D(pool_size=(3, 3), strides=(2, 2)))\n",
    "\n",
    "model.add(Conv2D(384, kernel_size=(3, 3), activation='relu', padding='same'))\n",
    "model.add(Conv2D(384, kernel_size=(3, 3), activation='relu', padding='same'))\n",
    "model.add(Conv2D(256, kernel_size=(3, 3), activation='relu', padding='same'))\n",
    "model.add(MaxPooling2D(pool_size=(3, 3), strides=(2, 2)))\n",
    "\n",
    "model.add(Flatten())\n",
    "\n",
    "model.add(Dense(4096, activation='relu'))\n",
    "model.add(Dropout(0.5))\n",
    "\n",
    "model.add(Dense(4096, activation='tanh'))\n",
    "model.add(Dropout(0.5))\n",
    "\n",
    "model.add(Dense(10, activation='softmax'))"
   ]
  },
  {
   "cell_type": "code",
   "execution_count": 30,
   "id": "27cd75a0-7255-477f-a428-5d6f10e0dffe",
   "metadata": {},
   "outputs": [],
   "source": [
    "model.compile(optimizer='adam', loss='categorical_crossentropy', metrics=['accuracy'])"
   ]
  },
  {
   "cell_type": "code",
   "execution_count": null,
   "id": "7a057aa4-45b2-4e19-803f-4239ef54dbfe",
   "metadata": {},
   "outputs": [
    {
     "name": "stdout",
     "output_type": "stream",
     "text": [
      "Epoch 1/5\n",
      " 97/391 [======>.......................] - ETA: 3:16 - loss: 2.1802 - accuracy: 0.1618"
     ]
    }
   ],
   "source": [
    "batch_size = 128\n",
    "epochs = 5\n",
    "history = model.fit(datagen.flow(x_train, y_train, batch_size=batch_size), epochs=epochs, validation_data=(x_test, y_test))"
   ]
  },
  {
   "cell_type": "code",
   "execution_count": 1,
   "id": "3816945d-98e4-4451-afef-20b44eaf925d",
   "metadata": {},
   "outputs": [
    {
     "ename": "NameError",
     "evalue": "name 'model' is not defined",
     "output_type": "error",
     "traceback": [
      "\u001b[0;31m---------------------------------------------------------------------------\u001b[0m",
      "\u001b[0;31mNameError\u001b[0m                                 Traceback (most recent call last)",
      "Cell \u001b[0;32mIn[1], line 1\u001b[0m\n\u001b[0;32m----> 1\u001b[0m loss, accuracy \u001b[38;5;241m=\u001b[39m \u001b[43mmodel\u001b[49m\u001b[38;5;241m.\u001b[39mevaluate(x_test, y_test)\n\u001b[1;32m      2\u001b[0m \u001b[38;5;28mprint\u001b[39m(\u001b[38;5;124mf\u001b[39m\u001b[38;5;124m\"\u001b[39m\u001b[38;5;124mTest Loss: \u001b[39m\u001b[38;5;132;01m{\u001b[39;00mloss\u001b[38;5;132;01m:\u001b[39;00m\u001b[38;5;124m.4f\u001b[39m\u001b[38;5;132;01m}\u001b[39;00m\u001b[38;5;124m, Test Accuracy: \u001b[39m\u001b[38;5;132;01m{\u001b[39;00maccuracy\u001b[38;5;132;01m:\u001b[39;00m\u001b[38;5;124m.4f\u001b[39m\u001b[38;5;132;01m}\u001b[39;00m\u001b[38;5;124m\"\u001b[39m)\n",
      "\u001b[0;31mNameError\u001b[0m: name 'model' is not defined"
     ]
    }
   ],
   "source": [
    "loss, accuracy = model.evaluate(x_test, y_test)\n",
    "print(f\"Test Loss: {loss:.4f}, Test Accuracy: {accuracy:.4f}\")"
   ]
  },
  {
   "cell_type": "code",
   "execution_count": null,
   "id": "f1e9e5ac-dbb2-48c9-b285-35efd1d3bcf0",
   "metadata": {},
   "outputs": [],
   "source": []
  }
 ],
 "metadata": {
  "kernelspec": {
   "display_name": "Python 3 (ipykernel)",
   "language": "python",
   "name": "python3"
  },
  "language_info": {
   "codemirror_mode": {
    "name": "ipython",
    "version": 3
   },
   "file_extension": ".py",
   "mimetype": "text/x-python",
   "name": "python",
   "nbconvert_exporter": "python",
   "pygments_lexer": "ipython3",
   "version": "3.10.8"
  }
 },
 "nbformat": 4,
 "nbformat_minor": 5
}
