{
 "cells": [
  {
   "cell_type": "markdown",
   "id": "c1992e10-fe6c-4785-89a1-765612289e1c",
   "metadata": {},
   "source": [
    "## Theoretical"
   ]
  },
  {
   "cell_type": "markdown",
   "id": "4b9c8f15-eb86-4639-8b3c-e724a1638a60",
   "metadata": {},
   "source": [
    "### What are the different data structures used in Tensorflow?. Give some examples.\n",
    "\n",
    "TensorFlow, an open-source machine learning framework, primarily deals with numerical computations involving multi-dimensional arrays known as tensors. While TensorFlow itself focuses on operations involving tensors, it doesn't provide a wide variety of traditional data structures like those found in general-purpose programming languages. However, it does have a few specialized data structures and abstractions that are crucial for building and training machine learning models. Here are some of them:\n",
    "\n",
    "1. **Tensor**: Tensors are the fundamental data structure in TensorFlow. They are multi-dimensional arrays with a uniform data type. Tensors can represent various types of data, such as scalars, vectors, matrices, and higher-dimensional arrays. TensorFlow tensors are similar to NumPy arrays. Example:\n",
    "\n",
    "   import tensorflow as tf\n",
    "\n",
    "   scalar = tf.constant(5)              \n",
    "   vector = tf.constant([1, 2, 3])      \n",
    "   matrix = tf.constant([[1, 2], [3, 4]]) \n",
    "\n",
    "2. **Variable**: Variables are tensors with a mutable value. They are often used to store and update model parameters during training. Unlike constants, variables can be modified using operations like `assign()` or through automatic differentiation. Example:\n",
    "\n",
    "   initial_value = tf.constant(0.5)\n",
    "   variable = tf.Variable(initial_value)\n",
    "\n",
    "3. **Placeholder**: In older versions of TensorFlow (prior to 2.0), placeholders were used to feed data into a TensorFlow computational graph. They were typically used in the context of building computational graphs for training. However, in TensorFlow 2.0 and later, placeholders have been replaced by eager execution and the `tf.data` API for data handling.\n",
    "\n",
    "4. **SparseTensor**: A SparseTensor is used to efficiently represent tensors with a large number of elements that are mostly zero. It stores only the non-zero elements along with their indices, saving memory and computation time when dealing with sparse data.\n",
    "\n",
    "   indices = tf.constant([[0, 0], [1, 2]])\n",
    "   values = tf.constant([1, 2])\n",
    "   shape = tf.constant([3, 4])\n",
    "   sparse_tensor = tf.SparseTensor(indices, values, shape)\n",
    "\n",
    "5. **RaggedTensor**: RaggedTensor is used to represent irregularly shaped tensors, where different rows can have different lengths. This is useful for sequences of varying lengths in natural language processing tasks.\n",
    "\n",
    "   values = tf.ragged.constant([[1, 2], [3, 4, 5], [6]])\n",
    "\n",
    "6. **Dataset**: While not exactly a data structure, the `tf.data.Dataset` API is a crucial component for handling data in TensorFlow. It provides an abstraction for creating input pipelines for training and inference, enabling efficient data loading, preprocessing, and batching.\n",
    "\n",
    "   dataset = tf.data.Dataset.from_tensor_slices([1, 2, 3, 4, 5])\n",
    "\n",
    "Remember that TensorFlow's primary focus is on numerical computations for machine learning, so the data structures it provides are geared towards supporting these tasks efficiently."
   ]
  },
  {
   "cell_type": "markdown",
   "id": "aa617aac-3041-4bd9-af6b-edf923a4d152",
   "metadata": {},
   "source": [
    "###  How does the TensorFlow constant differ from a TensorFlow variable? Explain with an example.\n",
    "\n",
    "In TensorFlow, both constants and variables are fundamental constructs used for creating and manipulating tensors within a computational graph. However, they serve different purposes based on their mutability and usage during training. Let's explore the differences between TensorFlow constants and variables with an example.\n",
    "\n",
    "**TensorFlow Constant:**\n",
    "A TensorFlow constant is a type of tensor with an unchanging value. Once you define a constant, its value remains the same throughout the execution of your program. Constants are typically used to represent fixed values or input data that don't need to be modified during computation. They are immutable.\n",
    "\n",
    "import tensorflow as tf\n",
    "\n",
    "#Define a constant\n",
    "constant_tensor = tf.constant([1, 2, 3])\n",
    "\n",
    "#You cannot modify the value of a constant\n",
    "#This will raise an error: 'tensorflow.python.framework.errors_impl.FailedPreconditionError'\n",
    "#constant_tensor.assign([4, 5, 6])\n",
    "\n",
    "**TensorFlow Variable:**\n",
    "A TensorFlow variable, on the other hand, is a tensor that holds a mutable value. Variables are commonly used to represent model parameters that need to be updated during training to minimize a loss function. They are crucial for training machine learning models as they allow the model's internal parameters to adapt based on the training data.\n",
    "\n",
    "import tensorflow as tf\n",
    "#Define a variable\n",
    "initial_value = tf.constant(0.5)\n",
    "variable = tf.Variable(initial_value)\n",
    "\n",
    "#You can modify the value of a variable using the assign operation\n",
    "new_value = tf.constant(1.0)\n",
    "variable.assign(new_value)\n",
    "print(variable.numpy())\n",
    "\n",
    "In summary, the key differences between TensorFlow constants and variables are:\n",
    "\n",
    "1. **Mutability**:\n",
    "   - Constants are immutable; their values cannot be changed after creation.\n",
    "   - Variables are mutable; their values can be changed using the `assign()` operation.\n",
    "\n",
    "2. **Usage**:\n",
    "   - Constants are used for fixed values or input data that remain unchanged during computation.\n",
    "   - Variables are used to store and update model parameters during training.\n",
    "\n",
    "3. **Role in Training**:\n",
    "   - Constants do not play a direct role in model training; they represent static values.\n",
    "   - Variables are essential for model training, as they store parameters that are updated through optimization algorithms.\n",
    "\n",
    "Remember that TensorFlow 2.0 and later versions promote eager execution by default, which means you can use NumPy-like syntax and operations directly without explicitly creating computational graphs. This change affects how constants and variables are used in practice compared to earlier versions of TensorFlow."
   ]
  },
  {
   "cell_type": "markdown",
   "id": "bfa22611-4c4e-4c0d-9c9f-f2f26d2665f2",
   "metadata": {},
   "source": [
    "###  Describe the process of matrix addition, multiplication, and elementDwise operations in TensorFlow."
   ]
  },
  {
   "cell_type": "code",
   "execution_count": 8,
   "id": "44b1af65-b9e7-4d22-8575-d1d7fe6eed5c",
   "metadata": {},
   "outputs": [
    {
     "name": "stdout",
     "output_type": "stream",
     "text": [
      "matrix addition: [[ 6  8]\n",
      " [10 12]]\n",
      "matrix multiplication [[19 22]\n",
      " [43 50]]\n",
      "elementwise addition [[ 6  8]\n",
      " [10 12]]\n",
      "elementwise multiplication [[ 5 12]\n",
      " [21 32]]\n"
     ]
    }
   ],
   "source": [
    "# Matrix Addition:\n",
    "# Matrix addition involves adding two matrices element-wise to create a new matrix with the same dimensions. \n",
    "# This operation requires that the matrices being added have the same shape.\n",
    "\n",
    "import tensorflow as tf\n",
    "\n",
    "# Define two matrices\n",
    "matrix_A = tf.constant([[1, 2], [3, 4]])\n",
    "matrix_B = tf.constant([[5, 6], [7, 8]])\n",
    "\n",
    "# Perform matrix addition\n",
    "result_matrix = tf.add(matrix_A, matrix_B)  \n",
    "\n",
    "print(\"matrix addition:\",result_matrix.numpy())\n",
    "\n",
    "\n",
    "# Matrix Multiplication:\n",
    "# Matrix multiplication (also known as matrix dot product) involves multiplying two matrices to produce a resulting matrix. \n",
    "# The number of columns in the first matrix must be equal to the number of rows in the second matrix.\n",
    "\n",
    "import tensorflow as tf\n",
    "\n",
    "# Define two matrices\n",
    "matrix_A = tf.constant([[1, 2], [3, 4]])\n",
    "matrix_B = tf.constant([[5, 6], [7, 8]])\n",
    "\n",
    "# Perform matrix multiplication\n",
    "result_matrix = tf.matmul(matrix_A, matrix_B)\n",
    "\n",
    "print(\"matrix multiplication\",result_matrix.numpy())\n",
    "\n",
    "\n",
    "# Element-wise Operations:\n",
    "# Element-wise operations involve performing an operation on corresponding elements of two tensors (matrices or vectors) to....\n",
    "# .....create a new tensor with the same shape. \n",
    "# Common element-wise operations include addition, subtraction, multiplication, division, etc.\n",
    "\n",
    "import tensorflow as tf\n",
    "\n",
    "# Define two matrices\n",
    "matrix_A = tf.constant([[1, 2], [3, 4]])\n",
    "matrix_B = tf.constant([[5, 6], [7, 8]])\n",
    "\n",
    "# Perform element-wise addition\n",
    "result_addition = matrix_A + matrix_B\n",
    "\n",
    "# Perform element-wise multiplication\n",
    "result_multiplication = matrix_A * matrix_B\n",
    "\n",
    "print(\"elementwise addition\",result_addition.numpy())\n",
    "print(\"elementwise multiplication\",result_multiplication.numpy())"
   ]
  },
  {
   "cell_type": "markdown",
   "id": "911ee9c9-9ee7-43dc-9472-ad810d7f7b67",
   "metadata": {},
   "source": [
    "## Implementation"
   ]
  },
  {
   "cell_type": "markdown",
   "id": "b37368de-5c10-4c23-8deb-06be35927082",
   "metadata": {},
   "source": [
    "## Creating and Manipulating Matrices"
   ]
  },
  {
   "cell_type": "markdown",
   "id": "69596a00-2ae0-42a1-ae02-f405bd95d9b4",
   "metadata": {},
   "source": [
    "#### Create a normal matrix A with dimensions 3x3, using TensorFlow's random_normal function. Display thevalues of matrix A."
   ]
  },
  {
   "cell_type": "code",
   "execution_count": 9,
   "id": "a4cc72f2-56bb-4e65-9fb4-3029f88c88b2",
   "metadata": {},
   "outputs": [
    {
     "name": "stdout",
     "output_type": "stream",
     "text": [
      "[[ 1.8219678  -0.29821756 -0.23450302]\n",
      " [ 2.3590455  -1.5827656  -0.7736521 ]\n",
      " [-1.69933     0.2379613   1.4506329 ]]\n"
     ]
    }
   ],
   "source": [
    "import tensorflow as tf\n",
    "\n",
    "matrix_A = tf.random.normal(shape=(3, 3))\n",
    "\n",
    "print(matrix_A.numpy())"
   ]
  },
  {
   "cell_type": "markdown",
   "id": "ba1c47c9-4e9d-4d4c-98e6-67fd513a0dae",
   "metadata": {},
   "source": [
    "#### Create a Gaussian matrix B with dimensions 4x4, using TensorFlow's truncated_normal function. Display the values of matrix B"
   ]
  },
  {
   "cell_type": "code",
   "execution_count": 10,
   "id": "9178d79c-328e-46ab-96e2-ecb7142669c3",
   "metadata": {},
   "outputs": [
    {
     "name": "stdout",
     "output_type": "stream",
     "text": [
      "[[-0.2826818   0.22369117  0.917777   -0.37790024]\n",
      " [ 1.4952018   1.011636   -1.9968281  -0.33876252]\n",
      " [-0.28131124 -0.13701701 -0.10013592  0.60539   ]\n",
      " [ 0.49225715  0.12242389 -1.3957176  -0.31176543]]\n"
     ]
    }
   ],
   "source": [
    "import tensorflow as tf\n",
    "\n",
    "matrix_B = tf.random.truncated_normal(shape=(4, 4))\n",
    "\n",
    "print(matrix_B.numpy())"
   ]
  },
  {
   "cell_type": "markdown",
   "id": "856468de-9d67-4c36-9bf5-7cbb3b3796e3",
   "metadata": {},
   "source": [
    "#### Create a matrix C with dimensions 2x2, where the values are drawn from a normal distribution with a mean of 3 and a standard deviation of 0.5, using TensorFlow's random.normal function. Display the values of matrix C"
   ]
  },
  {
   "cell_type": "code",
   "execution_count": 11,
   "id": "b0ebfa5b-a61f-4371-8e9d-ae4e34b1a93b",
   "metadata": {},
   "outputs": [
    {
     "name": "stdout",
     "output_type": "stream",
     "text": [
      "[[2.0314727 3.4842148]\n",
      " [2.5691702 2.5910575]]\n"
     ]
    }
   ],
   "source": [
    "import tensorflow as tf\n",
    "\n",
    "mean = 3.0\n",
    "stddev = 0.5\n",
    "matrix_C = tf.random.normal(shape=(2, 2), mean=mean, stddev=stddev)\n",
    "\n",
    "print(matrix_C.numpy())"
   ]
  },
  {
   "cell_type": "markdown",
   "id": "3dea6167-1db1-40e4-8dae-a0d8670a333f",
   "metadata": {},
   "source": [
    "#### Perform matrix addition between matrix A and matrix B, and store the result in matrix D"
   ]
  },
  {
   "cell_type": "code",
   "execution_count": 17,
   "id": "e45ad9d0-334a-446e-ae7a-d4fe5adb533b",
   "metadata": {},
   "outputs": [
    {
     "name": "stdout",
     "output_type": "stream",
     "text": [
      "Matrix A:\n",
      "[[ 0.30264765  0.9154737  -1.3507128 ]\n",
      " [ 1.6939504  -0.9189398   0.8060413 ]\n",
      " [-1.1390458   0.38135812 -1.8817457 ]]\n",
      "\n",
      "Matrix B:\n",
      "[[ 1.0221665  -0.40379107 -0.11518381]\n",
      " [ 0.5687239   0.33284083 -0.20770413]\n",
      " [-0.5944292  -0.05901195 -0.69959503]]\n",
      "\n",
      "Matrix D (result of A + B):\n",
      "[[ 1.3248141   0.5116826  -1.4658966 ]\n",
      " [ 2.2626743  -0.586099    0.5983372 ]\n",
      " [-1.733475    0.32234615 -2.5813408 ]]\n"
     ]
    }
   ],
   "source": [
    "import tensorflow as tf\n",
    "\n",
    "matrix_A = tf.random.normal(shape=(3, 3))\n",
    "matrix_B = tf.random.truncated_normal(shape=(3, 3))\n",
    "\n",
    "matrix_D = matrix_A + matrix_B\n",
    "\n",
    "print(\"Matrix A:\")\n",
    "print(matrix_A.numpy())\n",
    "\n",
    "print(\"\\nMatrix B:\")\n",
    "print(matrix_B.numpy())\n",
    "\n",
    "print(\"\\nMatrix D (result of A + B):\")\n",
    "print(matrix_D.numpy())"
   ]
  },
  {
   "cell_type": "markdown",
   "id": "1d584c7f-a960-4147-a259-57548152ac56",
   "metadata": {},
   "source": [
    "####  Perform matrix multiplication between matrix C and matrix D, and store the result in matrix E."
   ]
  },
  {
   "cell_type": "code",
   "execution_count": 19,
   "id": "2bab84a3-e26e-40e1-aba8-13cd9fc096c4",
   "metadata": {},
   "outputs": [
    {
     "name": "stdout",
     "output_type": "stream",
     "text": [
      "Matrix C:\n",
      "[[3.6991436 2.4793825]\n",
      " [2.9533446 2.0174887]]\n",
      "\n",
      "Matrix D:\n",
      "[[ 1.0245514   0.12147891]\n",
      " [-1.0667708  -0.17251696]]\n",
      "\n",
      "Matrix E (result of C * D):\n",
      "[[1.14503    0.0216324 ]\n",
      " [0.8736553  0.01071808]]\n"
     ]
    }
   ],
   "source": [
    "import tensorflow as tf\n",
    "\n",
    "matrix_C = tf.random.normal(shape=(2, 2), mean=3, stddev=0.5)\n",
    "matrix_D = tf.random.normal(shape=(2, 2))  \n",
    "\n",
    "matrix_E = tf.matmul(matrix_C, matrix_D)\n",
    "\n",
    "print(\"Matrix C:\")\n",
    "print(matrix_C.numpy())\n",
    "\n",
    "print(\"\\nMatrix D:\")\n",
    "print(matrix_D.numpy())\n",
    "\n",
    "print(\"\\nMatrix E (result of C * D):\")\n",
    "print(matrix_E.numpy())"
   ]
  },
  {
   "cell_type": "markdown",
   "id": "9fc89f13-8c51-42c9-9311-33481e3ae285",
   "metadata": {},
   "source": [
    "### Performing Additional Matrix Operation"
   ]
  },
  {
   "cell_type": "markdown",
   "id": "4709c8c6-081d-4edb-9bbd-ec78e820e37a",
   "metadata": {},
   "source": [
    "####  Create a matrix F with dimensions 3x3, initialized with random values using TensorFlow's random_uniform function"
   ]
  },
  {
   "cell_type": "code",
   "execution_count": 20,
   "id": "e10bbb1e-9c31-4265-898e-863592eacee1",
   "metadata": {},
   "outputs": [
    {
     "name": "stdout",
     "output_type": "stream",
     "text": [
      "[[0.7243438  0.8968971  0.4920001 ]\n",
      " [0.36534595 0.56147194 0.74259067]\n",
      " [0.29401422 0.33168137 0.0642364 ]]\n"
     ]
    }
   ],
   "source": [
    "import tensorflow as tf\n",
    "\n",
    "matrix_F = tf.random.uniform(shape=(3, 3))\n",
    "\n",
    "print(matrix_F.numpy())"
   ]
  },
  {
   "cell_type": "markdown",
   "id": "47c6a6df-82b7-402a-8d15-7c81628f7abb",
   "metadata": {},
   "source": [
    "#### Calculate the transpose of matrix F and store the result in matrix G"
   ]
  },
  {
   "cell_type": "code",
   "execution_count": 21,
   "id": "253608cd-3ef4-4d93-96b2-6fe48130825c",
   "metadata": {},
   "outputs": [
    {
     "name": "stdout",
     "output_type": "stream",
     "text": [
      "Matrix F:\n",
      "[[0.8394525  0.87497926 0.660053  ]\n",
      " [0.04185617 0.6232101  0.19872844]\n",
      " [0.6876254  0.3849734  0.32923508]]\n",
      "\n",
      "Matrix G (transpose of F):\n",
      "[[0.8394525  0.04185617 0.6876254 ]\n",
      " [0.87497926 0.6232101  0.3849734 ]\n",
      " [0.660053   0.19872844 0.32923508]]\n"
     ]
    }
   ],
   "source": [
    "import tensorflow as tf\n",
    "\n",
    "matrix_F = tf.random.uniform(shape=(3, 3))\n",
    "\n",
    "matrix_G = tf.transpose(matrix_F)\n",
    "\n",
    "print(\"Matrix F:\")\n",
    "print(matrix_F.numpy())\n",
    "\n",
    "print(\"\\nMatrix G (transpose of F):\")\n",
    "print(matrix_G.numpy())\n"
   ]
  },
  {
   "cell_type": "markdown",
   "id": "371b7e1d-90b9-4f88-9d98-6c0ee070c503",
   "metadata": {},
   "source": [
    "#### Calculate the elementDwise exponential of matrix F and store the result in matrix H"
   ]
  },
  {
   "cell_type": "code",
   "execution_count": 22,
   "id": "994c04bd-5ca8-4bd6-a508-9faf4fe43628",
   "metadata": {},
   "outputs": [
    {
     "name": "stdout",
     "output_type": "stream",
     "text": [
      "Matrix F:\n",
      "[[0.16777349 0.17314565 0.5922115 ]\n",
      " [0.24210763 0.8454447  0.25873613]\n",
      " [0.299973   0.91616154 0.7693374 ]]\n",
      "\n",
      "Matrix H (element-wise exponential of F):\n",
      "[[1.1826687 1.1890392 1.8079823]\n",
      " [1.2739313 2.3290133 1.295292 ]\n",
      " [1.3498224 2.499677  2.1583357]]\n"
     ]
    }
   ],
   "source": [
    "import tensorflow as tf\n",
    "\n",
    "matrix_F = tf.random.uniform(shape=(3, 3))\n",
    "matrix_H = tf.exp(matrix_F)\n",
    "\n",
    "print(\"Matrix F:\")\n",
    "print(matrix_F.numpy())\n",
    "\n",
    "print(\"\\nMatrix H (element-wise exponential of F):\")\n",
    "print(matrix_H.numpy())"
   ]
  },
  {
   "cell_type": "markdown",
   "id": "0f1a3f65-b63d-46bb-96bd-db590623b56d",
   "metadata": {},
   "source": [
    "####  Create a matrix I by concatenating matrix F and matrix G horizontally"
   ]
  },
  {
   "cell_type": "code",
   "execution_count": 23,
   "id": "72820ee4-c2c2-4db3-a8cf-f81de9f9be60",
   "metadata": {},
   "outputs": [
    {
     "name": "stdout",
     "output_type": "stream",
     "text": [
      "Matrix F:\n",
      "[[0.5870298  0.331434   0.51992023]\n",
      " [0.43655682 0.25718713 0.75785935]\n",
      " [0.6866698  0.5581752  0.8253894 ]]\n",
      "\n",
      "Matrix G:\n",
      "[[0.4774828  0.5209544  0.3321303 ]\n",
      " [0.79016006 0.17130566 0.04359603]\n",
      " [0.7752714  0.6950946  0.7513977 ]]\n",
      "\n",
      "Matrix I (concatenated horizontally):\n",
      "[[0.5870298  0.331434   0.51992023 0.4774828  0.5209544  0.3321303 ]\n",
      " [0.43655682 0.25718713 0.75785935 0.79016006 0.17130566 0.04359603]\n",
      " [0.6866698  0.5581752  0.8253894  0.7752714  0.6950946  0.7513977 ]]\n"
     ]
    }
   ],
   "source": [
    "import tensorflow as tf\n",
    "\n",
    "matrix_F = tf.random.uniform(shape=(3, 3))\n",
    "matrix_G = tf.random.uniform(shape=(3, 3))\n",
    "matrix_I = tf.concat([matrix_F, matrix_G], axis=1)\n",
    "\n",
    "print(\"Matrix F:\")\n",
    "print(matrix_F.numpy())\n",
    "\n",
    "print(\"\\nMatrix G:\")\n",
    "print(matrix_G.numpy())\n",
    "\n",
    "print(\"\\nMatrix I (concatenated horizontally):\")\n",
    "print(matrix_I.numpy())"
   ]
  },
  {
   "cell_type": "markdown",
   "id": "6da94d18-566c-4553-850a-bdd2ae2a9f4a",
   "metadata": {},
   "source": [
    "####  Create a matrix J by concatenating matrix F and matrix H vertically"
   ]
  },
  {
   "cell_type": "code",
   "execution_count": 24,
   "id": "295a8816-184b-4738-827c-a2fa36e6a3fb",
   "metadata": {},
   "outputs": [
    {
     "name": "stdout",
     "output_type": "stream",
     "text": [
      "Matrix F:\n",
      "[[0.80237055 0.02515936 0.9889418 ]\n",
      " [0.41004777 0.60735786 0.62033224]\n",
      " [0.17976975 0.37009203 0.16494024]]\n",
      "\n",
      "Matrix H (element-wise exponential of F):\n",
      "[[2.230823  1.0254785 2.688388 ]\n",
      " [1.5068898 1.8355751 1.8595457]\n",
      " [1.1969417 1.4478679 1.1793226]]\n",
      "\n",
      "Matrix J (concatenated vertically):\n",
      "[[0.80237055 0.02515936 0.9889418 ]\n",
      " [0.41004777 0.60735786 0.62033224]\n",
      " [0.17976975 0.37009203 0.16494024]\n",
      " [2.230823   1.0254785  2.688388  ]\n",
      " [1.5068898  1.8355751  1.8595457 ]\n",
      " [1.1969417  1.4478679  1.1793226 ]]\n"
     ]
    }
   ],
   "source": [
    "import tensorflow as tf\n",
    "\n",
    "matrix_F = tf.random.uniform(shape=(3, 3))\n",
    "\n",
    "matrix_H = tf.exp(matrix_F)\n",
    "\n",
    "matrix_J = tf.concat([matrix_F, matrix_H], axis=0)\n",
    "\n",
    "print(\"Matrix F:\")\n",
    "print(matrix_F.numpy())\n",
    "\n",
    "print(\"\\nMatrix H (element-wise exponential of F):\")\n",
    "print(matrix_H.numpy())\n",
    "\n",
    "print(\"\\nMatrix J (concatenated vertically):\")\n",
    "print(matrix_J.numpy())"
   ]
  },
  {
   "cell_type": "code",
   "execution_count": null,
   "id": "53e1f7a5-69d1-40eb-9b29-f1b31babdda8",
   "metadata": {},
   "outputs": [],
   "source": []
  }
 ],
 "metadata": {
  "kernelspec": {
   "display_name": "Python 3 (ipykernel)",
   "language": "python",
   "name": "python3"
  },
  "language_info": {
   "codemirror_mode": {
    "name": "ipython",
    "version": 3
   },
   "file_extension": ".py",
   "mimetype": "text/x-python",
   "name": "python",
   "nbconvert_exporter": "python",
   "pygments_lexer": "ipython3",
   "version": "3.10.8"
  }
 },
 "nbformat": 4,
 "nbformat_minor": 5
}
